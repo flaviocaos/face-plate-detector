
{
 "cells": [
  {
   "cell_type": "markdown",
   "metadata": {},
   "source": [
    "# Notebook para Detecção de Faces e Placas com Desfoque\n",
    "Este notebook executa o processamento de imagens usando o código do script."
   ]
  },
  {
   "cell_type": "code",
   "execution_count": null,
   "metadata": {},
   "outputs": [],
   "source": [
    "import os\n",
    "from processa_faces import process_and_save_image  # Assegure que a função está no script\n",
    "# Configure os caminhos das imagens\n",
    "input_folder = '/mnt/fotos-360/360/testeflavio/copia_teste'\n",
    "output_folder = '/mnt/fotos-360/360/testeflavio/output'\n",
    "os.makedirs(output_folder, exist_ok=True)\n",
    "\n",
    "# Processa as 5 primeiras imagens como exemplo\n",
    "images = [f for f in os.listdir(input_folder) if f.endswith('.jpg')]\n",
    "for img_file in images[:5]:\n",
    "    input_path = os.path.join(input_folder, img_file)\n",
    "    output_path = os.path.join(output_folder, img_file)\n",
    "    process_and_save_image(input_path, output_path)"
   ]
  }
 ],
 "metadata": {
  "kernelspec": {
   "display_name": "Python 3",
   "language": "python",
   "name": "python3"
  },
  "language_info": {
   "name": "python",
   "version": "3.8"
  }
 },
 "nbformat": 4,
 "nbformat_minor": 5
}
